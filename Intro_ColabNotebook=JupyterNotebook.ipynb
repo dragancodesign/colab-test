{
  "nbformat": 4,
  "nbformat_minor": 0,
  "metadata": {
    "colab": {
      "name": "Intro-ColabNotebook=JupyterNotebook.ipynb",
      "provenance": [],
      "authorship_tag": "ABX9TyP1vrTru2KG5xlljorBD1bm",
      "include_colab_link": true
    },
    "kernelspec": {
      "name": "python3",
      "display_name": "Python 3"
    },
    "language_info": {
      "name": "python"
    }
  },
  "cells": [
    {
      "cell_type": "markdown",
      "metadata": {
        "id": "view-in-github",
        "colab_type": "text"
      },
      "source": [
        "<a href=\"https://colab.research.google.com/github/dragancodesign/colab-test/blob/main/Intro_ColabNotebook%3DJupyterNotebook.ipynb\" target=\"_parent\"><img src=\"https://colab.research.google.com/assets/colab-badge.svg\" alt=\"Open In Colab\"/></a>"
      ]
    },
    {
      "cell_type": "code",
      "execution_count": 1,
      "metadata": {
        "colab": {
          "base_uri": "https://localhost:8080/"
        },
        "id": "9ZzFsNcbfXGI",
        "outputId": "0b1a4377-939f-424e-c7cb-a65fa2b9e97d"
      },
      "outputs": [
        {
          "output_type": "stream",
          "name": "stdout",
          "text": [
            "Hello Google Colab Test\n"
          ]
        }
      ],
      "source": [
        "print('Hello Google Colab Test')"
      ]
    },
    {
      "cell_type": "code",
      "source": [
        "print(\"Now it's connected with Google Drive Colab File\")"
      ],
      "metadata": {
        "colab": {
          "base_uri": "https://localhost:8080/"
        },
        "id": "sD-dRmUZiJ10",
        "outputId": "e780f750-6dc8-47c4-97fa-8581edffa8cc"
      },
      "execution_count": 2,
      "outputs": [
        {
          "output_type": "stream",
          "name": "stdout",
          "text": [
            "Now it's connected with Google Drive Colab File\n"
          ]
        }
      ]
    },
    {
      "cell_type": "code",
      "source": [
        ""
      ],
      "metadata": {
        "id": "Woh3yfWUiby0"
      },
      "execution_count": null,
      "outputs": []
    }
  ]
}