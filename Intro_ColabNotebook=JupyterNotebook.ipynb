{
  "nbformat": 4,
  "nbformat_minor": 0,
  "metadata": {
    "colab": {
      "name": "Intro-ColabNotebook=JupyterNotebook.ipynb",
      "provenance": [],
      "authorship_tag": "ABX9TyMY4NcD9y+QQIrv1sXhjkS/",
      "include_colab_link": true
    },
    "kernelspec": {
      "name": "python3",
      "display_name": "Python 3"
    },
    "language_info": {
      "name": "python"
    }
  },
  "cells": [
    {
      "cell_type": "markdown",
      "metadata": {
        "id": "view-in-github",
        "colab_type": "text"
      },
      "source": [
        "<a href=\"https://colab.research.google.com/github/dragancodesign/colab-test/blob/main/Intro_ColabNotebook%3DJupyterNotebook.ipynb\" target=\"_parent\"><img src=\"https://colab.research.google.com/assets/colab-badge.svg\" alt=\"Open In Colab\"/></a>"
      ]
    },
    {
      "cell_type": "code",
      "execution_count": 1,
      "metadata": {
        "colab": {
          "base_uri": "https://localhost:8080/"
        },
        "id": "9ZzFsNcbfXGI",
        "outputId": "0b1a4377-939f-424e-c7cb-a65fa2b9e97d"
      },
      "outputs": [
        {
          "output_type": "stream",
          "name": "stdout",
          "text": [
            "Hello Google Colab Test\n"
          ]
        }
      ],
      "source": [
        "print('Hello Google Colab Test')"
      ]
    }
  ]
}