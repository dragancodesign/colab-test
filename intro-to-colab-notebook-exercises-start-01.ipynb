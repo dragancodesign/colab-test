{
  "nbformat": 4,
  "nbformat_minor": 0,
  "metadata": {
    "colab": {
      "name": "Intro-ColabNotebook=JupyterNotebook.ipynb",
      "provenance": [],
      "authorship_tag": "ABX9TyOEhWQKO6ABrKiQ1aq44nfF",
      "include_colab_link": true
    },
    "kernelspec": {
      "name": "python3",
      "display_name": "Python 3"
    },
    "language_info": {
      "name": "python"
    }
  },
  "cells": [
    {
      "cell_type": "markdown",
      "metadata": {
        "id": "view-in-github",
        "colab_type": "text"
      },
      "source": [
        "<a href=\"https://colab.research.google.com/github/dragancodesign/colab-test/blob/main/intro-to-colab-notebook-exercises-start-01.ipynb\" target=\"_parent\"><img src=\"https://colab.research.google.com/assets/colab-badge.svg\" alt=\"Open In Colab\"/></a>"
      ]
    },
    {
      "cell_type": "code",
      "execution_count": 1,
      "metadata": {
        "colab": {
          "base_uri": "https://localhost:8080/"
        },
        "id": "9ZzFsNcbfXGI",
        "outputId": "0b1a4377-939f-424e-c7cb-a65fa2b9e97d"
      },
      "outputs": [
        {
          "output_type": "stream",
          "name": "stdout",
          "text": [
            "Hello Google Colab Test\n"
          ]
        }
      ],
      "source": [
        "print('Hello Google Colab Test')"
      ]
    },
    {
      "cell_type": "code",
      "source": [
        "print(\"Now it's connected with Google Drive Colab File\")"
      ],
      "metadata": {
        "colab": {
          "base_uri": "https://localhost:8080/"
        },
        "id": "sD-dRmUZiJ10",
        "outputId": "e780f750-6dc8-47c4-97fa-8581edffa8cc"
      },
      "execution_count": 2,
      "outputs": [
        {
          "output_type": "stream",
          "name": "stdout",
          "text": [
            "Now it's connected with Google Drive Colab File\n"
          ]
        }
      ]
    },
    {
      "cell_type": "code",
      "source": [
        "revenue = 100\n",
        "tax = 0.24\n",
        "income = revenue * tax\n",
        "print(income)"
      ],
      "metadata": {
        "colab": {
          "base_uri": "https://localhost:8080/"
        },
        "id": "Woh3yfWUiby0",
        "outputId": "a987981e-385c-4aff-90fb-5d8d7339cd21"
      },
      "execution_count": 3,
      "outputs": [
        {
          "output_type": "stream",
          "name": "stdout",
          "text": [
            "24.0\n"
          ]
        }
      ]
    },
    {
      "cell_type": "markdown",
      "source": [
        ""
      ],
      "metadata": {
        "id": "XL8EUjDujo69"
      }
    },
    {
      "cell_type": "markdown",
      "source": [
        "##Here is: How to importn Libraries##"
      ],
      "metadata": {
        "id": "zDSoAItfjyGJ"
      }
    },
    {
      "cell_type": "markdown",
      "source": [
        "When you want to put Title (Header) h2 just enter: ##, it's simple."
      ],
      "metadata": {
        "id": "6eZOg6BSkC4m"
      }
    },
    {
      "cell_type": "code",
      "source": [
        "import numpy as np\n",
        "\n",
        "np.__version__"
      ],
      "metadata": {
        "colab": {
          "base_uri": "https://localhost:8080/",
          "height": 35
        },
        "id": "9iUhs5duj8tW",
        "outputId": "d6854a48-7018-4a13-9bc0-5413252c155e"
      },
      "execution_count": 4,
      "outputs": [
        {
          "output_type": "execute_result",
          "data": {
            "application/vnd.google.colaboratory.intrinsic+json": {
              "type": "string"
            },
            "text/plain": [
              "'1.19.5'"
            ]
          },
          "metadata": {},
          "execution_count": 4
        }
      ]
    },
    {
      "cell_type": "markdown",
      "source": [
        "UDEMY course: **\"110+ Exercises - Python + SQL (sqlite3) - SQLite Databases\"**\n",
        "https://www.udemy.com/course/exercises-python-sql-sqlite3-sqlite-databases/\n",
        "\n",
        "Colab provides the option of auto-complete. We can enter a function and Colab will show the posibilities in an context window.\n",
        "The question mark (?) at the end of the line will show us the posibilities (\"Help\") of that function.\n"
      ],
      "metadata": {
        "id": "Ccui2ZYLkw91"
      }
    },
    {
      "cell_type": "code",
      "source": [
        "np.random.rand?"
      ],
      "metadata": {
        "id": "McXC81UsklIR"
      },
      "execution_count": 5,
      "outputs": []
    },
    {
      "cell_type": "code",
      "source": [
        ""
      ],
      "metadata": {
        "id": "eZH5ZfwVmh-8"
      },
      "execution_count": null,
      "outputs": []
    }
  ]
}